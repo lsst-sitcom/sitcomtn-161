{
 "cells": [
  {
   "cell_type": "markdown",
   "id": "2f950321-79bb-4264-b2fd-9ef7595456a0",
   "metadata": {
    "execution": {
     "iopub.execute_input": "2025-02-27T16:54:09.363845Z",
     "iopub.status.busy": "2025-02-27T16:54:09.363572Z",
     "iopub.status.idle": "2025-02-27T16:54:09.366100Z",
     "shell.execute_reply": "2025-02-27T16:54:09.365703Z",
     "shell.execute_reply.started": "2025-02-27T16:54:09.363830Z"
    }
   },
   "source": [
    "# Shear profile around A360 using ComCam HSM shapes\n",
    "\n",
    "Author: Céline Combet (with input from many - Anthony Englert, Shenming Fu, Ian dell'Antonio, Pakruth Adari,... see [SITCOMTN-161](https://sitcomtn-161.lsst.io/))\\\n",
    "LSST Science Piplines version: Weekly 2025_17\\\n",
    "Container Size: medium\n",
    "\n",
    "This notebook provides the code used to generate the shear profile figure in section 4 of [SITCOMTN-161](https://sitcomtn-161.lsst.io/) (it acutally also produces other figures that were not shown in the TechNote). The main steps are:\n",
    "\n",
    "- Loading the relevant object catalogs (all tracts and patches needed) using the butler\n",
    "- Color cut source selection\n",
    "- HSC lensing quality cuts\n",
    "- HSC Y1 calibration step. The `gen_hsc_calibration` script needs to be installed. The script is publicly available at: [https://github.com/PrincetonUniversity/hsc-y1-shear-calib](https://github.com/PrincetonUniversity/hsc-y1-shear-calib)\n",
    "- Shear profile measurement using [CLMM](https://github.com/LSSTDESC/clmm). In the RSP, using a LSST kernel, you should have CLMM installed locally (requires `qp` and `pyccl` installed as well) prior to running the last steps.\n"
   ]
  },
  {
   "cell_type": "code",
   "execution_count": null,
   "id": "34840e55-4119-4612-a769-a808b6e97d16",
   "metadata": {},
   "outputs": [],
   "source": [
    "# general python packages\n",
    "import numpy as np\n",
    "import matplotlib.pyplot as plt\n",
    "import pandas as pd\n",
    "import re\n"
   ]
  },
  {
   "cell_type": "code",
   "execution_count": null,
   "id": "583b109a-0868-43f6-8abc-36a915f69c0c",
   "metadata": {},
   "outputs": [],
   "source": [
    "from lsst.daf.butler import Butler\n",
    "import lsst.geom as geom\n",
    "import lsst.afw.geom as afwGeom"
   ]
  },
  {
   "cell_type": "code",
   "execution_count": null,
   "id": "38325d14-740b-43ec-9b3c-79d820890543",
   "metadata": {},
   "outputs": [],
   "source": [
    "repo = '/repo/dp1'\n",
    "collection = 'LSSTComCam/runs/DRP/DP1/v29_0_0/DM-50260'\n",
    "\n",
    "butler = Butler(repo, collections=collection)"
   ]
  },
  {
   "cell_type": "code",
   "execution_count": null,
   "id": "7a7c46bd-b622-4393-959f-54fca2517fa3",
   "metadata": {},
   "outputs": [],
   "source": [
    "version_str = collection.split('/')\n",
    "version = version_str[-2:][0]+'_'+version_str[-2:][1]\n",
    "version"
   ]
  },
  {
   "cell_type": "code",
   "execution_count": null,
   "id": "4d19d115-4e0a-460d-a2eb-74dbf31fc5c0",
   "metadata": {},
   "outputs": [],
   "source": [
    "skymap = butler.get('skyMap', skymap='lsst_cells_v1')"
   ]
  },
  {
   "cell_type": "markdown",
   "id": "93de23f3-6156-4367-aa81-f024882dd2f3",
   "metadata": {},
   "source": [
    "## Find tracts and patches for Abell 360 and load the catalogs\n",
    "\n",
    "Find all the tracts/patches that falls in a given region around the A360 BCG, and store the results in a dictionary `tp_dict`"
   ]
  },
  {
   "cell_type": "code",
   "execution_count": null,
   "id": "68864e5c-d7b7-40db-b564-8e189894346b",
   "metadata": {},
   "outputs": [],
   "source": [
    "# Position of the BCG for A360\n",
    "ra_bcg = 37.862\n",
    "dec_bcg = 6.98\n",
    "\n",
    "# Looking for all patches in delta deg region around it\n",
    "delta = 0.5\n",
    "center = geom.SpherePoint(ra_bcg, dec_bcg, geom.degrees)\n",
    "ra_min, ra_max = ra_bcg - delta, ra_bcg + delta\n",
    "dec_min, dec_max = dec_bcg - delta, dec_bcg + delta\n",
    "\n",
    "ra_range = (ra_min, ra_max)\n",
    "dec_range = (dec_min, dec_max)\n",
    "radec = [geom.SpherePoint(ra_range[0], dec_range[0], geom.degrees),\n",
    "         geom.SpherePoint(ra_range[0], dec_range[1], geom.degrees),\n",
    "         geom.SpherePoint(ra_range[1], dec_range[0], geom.degrees),\n",
    "         geom.SpherePoint(ra_range[1], dec_range[1], geom.degrees)]\n",
    "\n",
    "tracts_and_patches = skymap.findTractPatchList(radec)\n",
    "\n",
    "tp_dict = {}\n",
    "for tract_num in np.arange(len(tracts_and_patches)):\n",
    "    tract_info = tracts_and_patches[tract_num][0]\n",
    "    tract_idx = tract_info.getId()\n",
    "    # All the patches around the cluster\n",
    "    patches = []\n",
    "    for i,patch in enumerate(tracts_and_patches[tract_num][1]):\n",
    "        patch_info = tracts_and_patches[tract_num][1][i]\n",
    "        patch_idx = patch_info.sequential_index\n",
    "        patches.append(patch_idx)\n",
    "    tp_dict.update({tract_idx:patches})\n",
    "#tp_dict\n",
    "#print(tracts_and_patches)"
   ]
  },
  {
   "cell_type": "markdown",
   "id": "9523bf59-d30d-49fb-bb1c-02ace8a32992",
   "metadata": {},
   "source": [
    "Load the object catalogs for all these tracts/patches, make basic cuts, and store in a single merged catalog `merged_cat`."
   ]
  },
  {
   "cell_type": "code",
   "execution_count": null,
   "id": "141d1ef1-6b25-4e1a-9a27-0211cdc5a1a8",
   "metadata": {},
   "outputs": [],
   "source": [
    "# Get the object catlaog of these patches\n",
    "if 'v29' in version:\n",
    "    datasetType = 'object_patch'\n",
    "else:\n",
    "    datasetType = 'objectTable'\n",
    " \n",
    "merged_cat = pd.DataFrame()\n",
    "\n",
    "for tract in tp_dict.keys():\n",
    "    print(f'Loading objects from tract {tract}, patches:{tp_dict[tract]}')\n",
    "    for patch in tp_dict[tract]:\n",
    "        dataId = {'tract': tract, 'patch' : patch ,'skymap':'lsst_cells_v1'}\n",
    "        obj_cat = butler.get(datasetType, dataId=dataId)\n",
    "        if datasetType == 'object_patch': # new naming convention, and obj_cat is now an astropy table. \n",
    "            obj_cat = obj_cat.to_pandas() # convert to pandas to leave the rest of the code unchanged\n",
    "        pattern = r\"^g_|^z_\"  \n",
    "        # Drop columns matching the pattern\n",
    "        obj_cat = obj_cat.drop(columns=[col for col in obj_cat.columns if re.match(pattern, col)])\n",
    "\n",
    "        filt = obj_cat['detect_isPrimary']==True\n",
    "        filt &= obj_cat['r_cModel_flag']== False\n",
    "        filt &= obj_cat['i_cModel_flag']== False\n",
    "        filt &= obj_cat['r_cModelFlux']>0\n",
    "        filt &= obj_cat['i_cModelFlux']>0\n",
    "        filt &= obj_cat['refExtendedness'] > 0.5\n",
    "\n",
    "\n",
    "        merged_cat = pd.concat([merged_cat, obj_cat[filt]], ignore_index=True)\n",
    "        "
   ]
  },
  {
   "cell_type": "markdown",
   "id": "b74c09d4-b618-4746-af0c-324e325471a0",
   "metadata": {},
   "source": [
    "## Red sequence identification"
   ]
  },
  {
   "cell_type": "markdown",
   "id": "73df7eeb-88b3-463c-ba8e-1eeff5a440a8",
   "metadata": {
    "execution": {
     "iopub.execute_input": "2025-03-11T08:09:33.227567Z",
     "iopub.status.busy": "2025-03-11T08:09:33.226937Z",
     "iopub.status.idle": "2025-03-11T08:09:33.229610Z",
     "shell.execute_reply": "2025-03-11T08:09:33.229178Z",
     "shell.execute_reply.started": "2025-03-11T08:09:33.227548Z"
    }
   },
   "source": [
    "### Select a circular field close (<0.1 deg) to the BCG in order to identify RS"
   ]
  },
  {
   "cell_type": "code",
   "execution_count": null,
   "id": "ae72749b-f31b-4e4c-8037-4754f63277fb",
   "metadata": {},
   "outputs": [],
   "source": [
    "import astropy.units as u\n",
    "from astropy.coordinates import SkyCoord\n",
    "\n",
    "c1 = SkyCoord(merged_cat['coord_ra'].values*u.deg, merged_cat['coord_dec'].values*u.deg)\n",
    "c2 = SkyCoord(ra_bcg*u.deg, dec_bcg*u.deg)\n",
    "sep = c1.separation(c2)\n",
    "\n",
    "sep.deg\n",
    "filt = sep.deg < 0.1 # stay close to cluster center for RS indentification\n",
    "merged_cat_rs = merged_cat[filt] # catalog for RS identification"
   ]
  },
  {
   "cell_type": "code",
   "execution_count": null,
   "id": "704bddeb-a247-4164-bcdb-20850d761847",
   "metadata": {},
   "outputs": [],
   "source": [
    "len(merged_cat), len(merged_cat_rs)"
   ]
  },
  {
   "cell_type": "markdown",
   "id": "26d04d17-6909-42d6-8528-c16016c3487d",
   "metadata": {
    "execution": {
     "iopub.execute_input": "2024-12-10T10:09:09.316496Z",
     "iopub.status.busy": "2024-12-10T10:09:09.316212Z",
     "iopub.status.idle": "2024-12-10T10:09:09.321215Z",
     "shell.execute_reply": "2024-12-10T10:09:09.318432Z",
     "shell.execute_reply.started": "2024-12-10T10:09:09.316483Z"
    }
   },
   "source": [
    "### Convert fluxes to magnitudes and identify red sequence in r-i versus r\n",
    "\n",
    "Conversion from fluxes to mag using formula from DP0.2 tutorial."
   ]
  },
  {
   "cell_type": "code",
   "execution_count": null,
   "id": "d210781e-d08f-489c-9876-81ca1aba6450",
   "metadata": {},
   "outputs": [],
   "source": [
    "mag_i = -2.50 * np.log10(merged_cat_rs['i_cModelFlux']) + 31.4\n",
    "mag_r = -2.50 * np.log10(merged_cat_rs['r_cModelFlux']) + 31.4\n",
    "\n",
    "fig, ax = plt.subplots(nrows=1, ncols=2, figsize=(8,4))\n",
    "ax[0].hist(mag_r, bins=50)\n",
    "ax[1].hist(mag_i, bins=50)\n",
    "ax[0].set_yscale('log')\n",
    "ax[1].set_yscale('log')"
   ]
  },
  {
   "cell_type": "markdown",
   "id": "4eda95fc-5e57-4d06-84d5-9c01b2a6a17d",
   "metadata": {},
   "source": [
    "### Color magnitude diagram and by eye indetification of the red sequence\n"
   ]
  },
  {
   "cell_type": "code",
   "execution_count": null,
   "id": "e6ab9eff-f4ff-4aa5-89fb-014da9d5c310",
   "metadata": {},
   "outputs": [],
   "source": [
    "fig, ax = plt.subplots(nrows=1, ncols=1, figsize=(4,4))\n",
    "ax.scatter(mag_r, mag_r-mag_i, marker='.', s=0.3)\n",
    "ax.set_ylim([-2,2])\n",
    "ax.set_xlim([19,25])\n",
    "ax.set_ylabel('r-i')\n",
    "ax.set_xlabel('r')\n",
    "ax.plot([19,24],[0.44,0.34], color='r', linewidth=0.7)\n",
    "ax.plot([19,24],[0.64,0.54], color='r', linewidth=0.7)\n",
    "fig.tight_layout()\n",
    "# fig.savefig(f\"RS_{version}.png\")"
   ]
  },
  {
   "cell_type": "markdown",
   "id": "b88a4db6-9b71-4c44-8bd9-3dc775a0875c",
   "metadata": {
    "execution": {
     "iopub.execute_input": "2025-03-11T08:13:37.716333Z",
     "iopub.status.busy": "2025-03-11T08:13:37.715720Z",
     "iopub.status.idle": "2025-03-11T08:13:37.718367Z",
     "shell.execute_reply": "2025-03-11T08:13:37.717968Z",
     "shell.execute_reply.started": "2025-03-11T08:13:37.716316Z"
    }
   },
   "source": [
    "### Filter to identify red sequence galaxies in the sample\n"
   ]
  },
  {
   "cell_type": "code",
   "execution_count": null,
   "id": "dc5eeca9-03e8-484f-9aea-02b33ea1fd2c",
   "metadata": {},
   "outputs": [],
   "source": [
    "rs_hi = 0.64 - (0.1/5.) * (mag_r-19)\n",
    "rs_low = 0.44 - (0.1/5.)* (mag_r-19)\n",
    "color = mag_r - mag_i\n",
    "\n",
    "idx = np.where(np.logical_and(color>rs_low, color<rs_hi))[0]\n",
    "idx2 = np.where(mag_r.iloc[idx] < 22)[0] # keep the brightest objects only\n",
    "\n",
    "RS_id_list_nearcluster = merged_cat_rs['objectId'].iloc[idx].iloc[idx2]"
   ]
  },
  {
   "cell_type": "code",
   "execution_count": null,
   "id": "1309684b-14ca-4258-869f-96f7685d52c3",
   "metadata": {},
   "outputs": [],
   "source": [
    "fig, ax = plt.subplots(nrows=1, ncols=1, \n",
    "                         figsize=(4,4))\n",
    "ax.scatter(mag_r, mag_r-mag_i, marker='.', s=0.3) # all galaxies  \n",
    "ax.scatter(mag_r.iloc[idx].iloc[idx2], \n",
    "           mag_r.iloc[idx].iloc[idx2]-mag_i.iloc[idx].iloc[idx2], \n",
    "           marker='.', s=0.3) #red sequence galaxies\n",
    "ax.set_ylim([-2,2])\n",
    "ax.set_xlim([19,27])\n",
    "ax.set_ylabel('r-i')\n",
    "ax.set_xlabel('r')\n",
    "ax.plot([19,24],[0.44,0.34], color='r', linewidth=0.7)\n",
    "ax.plot([19,24],[0.64,0.54], color='r', linewidth=0.7)"
   ]
  },
  {
   "cell_type": "markdown",
   "id": "154c23e9-caf3-42bd-ac24-374f6fbee153",
   "metadata": {},
   "source": [
    "## Remove red sequence galaxies in the full field\n",
    "\n",
    "For the analysis, we'll keep source galaxies within 0.5 deg from the BCG. Now we apply the RS cut defined on the small region above to the full field of the analysis. The RS-free catalog is stored as `merged_cat_wl`. The lensing quality cuts will be performed in a subsequent step. "
   ]
  },
  {
   "cell_type": "code",
   "execution_count": null,
   "id": "150c83a6-a33f-412a-a34a-3e54fe9721b1",
   "metadata": {},
   "outputs": [],
   "source": [
    "filt = sep.deg <  10 #0.5 # larger field for analysis\n",
    "merged_cat_wl = merged_cat[filt]"
   ]
  },
  {
   "cell_type": "code",
   "execution_count": null,
   "id": "2395f01c-04c5-4bbe-bdda-7bef379331ff",
   "metadata": {},
   "outputs": [],
   "source": [
    "mag_i = -2.50 * np.log10(merged_cat_wl['i_cModelFlux']) + 31.4\n",
    "mag_r = -2.50 * np.log10(merged_cat_wl['r_cModelFlux']) + 31.4\n",
    "color = mag_r - mag_i\n",
    "\n",
    "# Filter defined above applied to the full sample\n",
    "rs_hi = 0.64 - (0.1/5.) * (mag_r-19)\n",
    "rs_low = 0.44 - (0.1/5.)* (mag_r-19)\n",
    "\n",
    "idx = np.where(np.logical_and(color>rs_low, color<rs_hi))[0]\n",
    "idx2 = np.where(mag_r.iloc[idx] < 22)[0] # keep the brightest objects only"
   ]
  },
  {
   "cell_type": "code",
   "execution_count": null,
   "id": "9bdc7359-5f3d-4498-aefb-5a00cf34c0b9",
   "metadata": {},
   "outputs": [],
   "source": [
    "fig, ax = plt.subplots(nrows=1, ncols=1, \n",
    "                         figsize=(4,4))\n",
    "ax.scatter(mag_r, mag_r-mag_i, marker='.', s=0.3) # all galaxies  \n",
    "ax.scatter(mag_r.iloc[idx].iloc[idx2], \n",
    "           mag_r.iloc[idx].iloc[idx2]-mag_i.iloc[idx].iloc[idx2], \n",
    "           marker='.', s=0.3) #red sequence galaxies\n",
    "ax.set_ylim([-2,2])\n",
    "ax.set_xlim([19,27])\n",
    "ax.set_ylabel('r-i')\n",
    "ax.set_xlabel('r')"
   ]
  },
  {
   "cell_type": "code",
   "execution_count": null,
   "id": "5a56544c-49a5-4f5f-a61e-ed8d1caf02eb",
   "metadata": {},
   "outputs": [],
   "source": [
    "RS_id_list = merged_cat_wl['objectId'].iloc[idx].iloc[idx2]"
   ]
  },
  {
   "cell_type": "code",
   "execution_count": null,
   "id": "33932b2e-f50f-4584-9247-758ab488d2df",
   "metadata": {},
   "outputs": [],
   "source": [
    "# Filter out rows where the 'dataid' column matches any value in RS_id_list\n",
    "merged_cat_wl = merged_cat_wl[~merged_cat_wl['objectId'].isin(RS_id_list)]"
   ]
  },
  {
   "cell_type": "markdown",
   "id": "538590f5-86e8-408d-8086-907d16dbeba4",
   "metadata": {},
   "source": [
    "## Lensing cuts\n",
    "\n",
    "The RS sequence has been removed. Now apply a series of lensing cuts (mostly following Shenming's [CLMM HSC demo analysis](https://github.com/LSSTDESC/CLMM/blob/main/examples/mass_fitting/Example4_Fit_Halo_mass_to_HSC_data.ipynb), but missing some at the moment), to the `merged_cat_wl` catalog. There might be more cuts to implement to improve sample purity."
   ]
  },
  {
   "cell_type": "code",
   "execution_count": null,
   "id": "67aee903-ea0f-4006-8986-300b280eb473",
   "metadata": {},
   "outputs": [],
   "source": [
    "len(merged_cat_wl)"
   ]
  },
  {
   "cell_type": "code",
   "execution_count": null,
   "id": "aa55d85a-fd19-4fe6-b878-0daaeea4a3d8",
   "metadata": {},
   "outputs": [],
   "source": [
    "# Compute again magnitudes, but for the RS-free catalog\n",
    "mag_i = -2.50 * np.log10(merged_cat_wl['i_cModelFlux']) + 31.4\n",
    "mag_r = -2.50 * np.log10(merged_cat_wl['r_cModelFlux']) + 31.4\n",
    "\n",
    "# Filters to keep sources with good-quality measured shape in i band\n",
    "source_filt = np.sqrt(merged_cat_wl['i_hsmShapeRegauss_e1']**2 + merged_cat_wl['i_hsmShapeRegauss_e2']**2) < 4\n",
    "source_filt &= merged_cat_wl['i_hsmShapeRegauss_sigma']<= 0.4\n",
    "source_filt &= merged_cat_wl['i_hsmShapeRegauss_flag'] == 0\n",
    "source_filt &= merged_cat_wl['i_blendedness'] < 0.42\n",
    "source_filt &= merged_cat_wl['i_iPSF_flag']==0\n",
    "\n",
    "# Resolution factor quality cut - according to Mandelbaum (2018) paper:\n",
    "# \"we use the resolution factor R2 which is defined using the traces of the moment matrix of the PSF TP and \n",
    "# of the observed (PSF-convolved) galaxy image TI as: R2 = 1- TP/TI\"\n",
    "# Best guess to translate that in terms of ComCam objectTable catalog output...\n",
    "\n",
    "res = 1 - (merged_cat_wl['i_ixxPSF']+ merged_cat_wl['i_iyyPSF']) / (merged_cat_wl['i_ixx']+ merged_cat_wl['i_iyy'])\n",
    "source_filt &= res >= 0.3\n",
    "\n",
    "source_filt &= (mag_i <= 24.5) & (mag_i>21) \n",
    "\n",
    "print(f'Source sample size: {np.sum(source_filt)}')"
   ]
  },
  {
   "cell_type": "markdown",
   "id": "8b041b07-feb2-4f79-8c26-dd0ac50af6d0",
   "metadata": {},
   "source": [
    "### Final source sample CMD, (ra,dec) distribution, etc."
   ]
  },
  {
   "cell_type": "code",
   "execution_count": null,
   "id": "9afff352-325d-4937-95f4-e7b67f769444",
   "metadata": {},
   "outputs": [],
   "source": [
    "fig, ax = plt.subplots(nrows=1, ncols=1, \n",
    "                         figsize=(4,4))\n",
    "ax.scatter(mag_r[source_filt], mag_r[source_filt]-mag_i[source_filt], marker='.', s=0.3) # all galaxies  \n",
    "ax.set_ylim([-1,2])\n",
    "ax.set_xlim([18,27])\n",
    "ax.set_ylabel('r-i')\n",
    "ax.set_xlabel('r')"
   ]
  },
  {
   "cell_type": "code",
   "execution_count": null,
   "id": "66c9a61a-9fe0-415d-9f5d-a479d68b8769",
   "metadata": {},
   "outputs": [],
   "source": [
    "ra = merged_cat_wl['coord_ra'][source_filt]\n",
    "dec = merged_cat_wl['coord_dec'][source_filt]\n",
    "e1 = merged_cat_wl['i_hsmShapeRegauss_e1'][source_filt]\n",
    "e2 = merged_cat_wl['i_hsmShapeRegauss_e2'][source_filt]\n",
    "# e_err = merged_cat_wl['i_hsmShapeRegauss_sigma'][source_filt]\n",
    "gal_id = merged_cat_wl['objectId'][source_filt]"
   ]
  },
  {
   "cell_type": "code",
   "execution_count": null,
   "id": "9063095f-9f59-4af6-bd3e-90dd47f2959c",
   "metadata": {},
   "outputs": [],
   "source": [
    "plt.scatter(ra, dec, marker='.', s=0.2)\n",
    "plt.scatter([ra_bcg], [dec_bcg], marker='+', s=100, color='orange')"
   ]
  },
  {
   "cell_type": "markdown",
   "id": "2b93fb66-2d1b-49e4-8a61-d67942ef6b2d",
   "metadata": {
    "execution": {
     "iopub.execute_input": "2025-02-27T15:54:39.992227Z",
     "iopub.status.busy": "2025-02-27T15:54:39.991847Z",
     "iopub.status.idle": "2025-02-27T15:54:39.993946Z",
     "shell.execute_reply": "2025-02-27T15:54:39.993660Z",
     "shell.execute_reply.started": "2025-02-27T15:54:39.992214Z"
    }
   },
   "source": [
    "## Apply HSC shear calibration"
   ]
  },
  {
   "cell_type": "markdown",
   "id": "228c99a9-d60f-40c7-adbb-a2fdd0261f32",
   "metadata": {},
   "source": [
    "### Save source catalog `merged_cat_wl` as fits file to use as input for the HSC calibration script."
   ]
  },
  {
   "cell_type": "code",
   "execution_count": null,
   "id": "61ee3b7a-16be-4ef1-be44-dd382ca44efa",
   "metadata": {},
   "outputs": [],
   "source": [
    "from astropy.io import fits\n",
    "from astropy.table import Table, vstack\n",
    "import pandas as pd\n",
    "\n",
    "# Too many columns in the pandas dataframe. Remove some unecessary ones.\n",
    "import re\n",
    "# Define pattern (example: drop all columns starting with \"temp_\")\n",
    "pattern = r\"^g_|^z_\"  \n",
    "# Drop columns matching the pattern\n",
    "merged_cat_wl = merged_cat_wl.drop(columns=[col for col in merged_cat_wl.columns if re.match(pattern, col)])\n",
    "\n",
    "astropy_table = Table.from_pandas(merged_cat_wl[source_filt])\n",
    "astropy_table.write('source_sample.fits', format=\"fits\", overwrite=True)"
   ]
  },
  {
   "cell_type": "markdown",
   "id": "7678b645-c6a5-4bff-845b-8c87811d6a92",
   "metadata": {},
   "source": [
    "Now that the source_sample.fits file exists, need to use the HSC calibration. The `get_snr, get_res, get_psf_ellip` functions in the `utilities.py` file from the HSC calibration repo first need to be updated to use the column names of DP1. Then syntax is:\n",
    "```\n",
    "python gen_hsc_calibrations.py source_sample.fits source_sample_calib.fits\n",
    "```\n",
    "which will create the `source_sample_calib.fits` file that is read below."
   ]
  },
  {
   "cell_type": "code",
   "execution_count": null,
   "id": "d82489a7-cb44-4fed-a1c4-d69acc0f91cb",
   "metadata": {},
   "outputs": [],
   "source": [
    "!rm source_sample_calib.fits\n",
    "!cd ../../my_softs/hsc-y1-shear-calib/ && python gen_hsc_calibrations.py ../../ComCam/comcam_clusters/source_sample.fits ../../ComCam/comcam_clusters/source_sample_calib.fits"
   ]
  },
  {
   "cell_type": "markdown",
   "id": "50b42c91-e617-459a-9fd2-9bcd873abe1f",
   "metadata": {
    "execution": {
     "iopub.execute_input": "2025-03-11T08:50:49.871749Z",
     "iopub.status.busy": "2025-03-11T08:50:49.871448Z",
     "iopub.status.idle": "2025-03-11T08:50:49.873940Z",
     "shell.execute_reply": "2025-03-11T08:50:49.873606Z",
     "shell.execute_reply.started": "2025-03-11T08:50:49.871734Z"
    }
   },
   "source": [
    "### Read in the calibration quantities and apply the calibration"
   ]
  },
  {
   "cell_type": "code",
   "execution_count": null,
   "id": "5d8aeb9a-de58-4fca-88e0-dbf7486f3235",
   "metadata": {},
   "outputs": [],
   "source": [
    "from astropy.io import fits\n",
    "from astropy.table import Table, vstack\n",
    "import pandas as pd\n",
    "\n",
    "with fits.open('source_sample_calib.fits') as hdul:\n",
    "    # Assuming data is in the first HDU (if not, change the index as needed)\n",
    "    data = hdul[1].data\n",
    "\n",
    "    # Convert the FITS data to an Astropy Table\n",
    "    table = Table(data)\n",
    "\n",
    "sigma_e = table['ishape_hsm_regauss_derived_sigma_e']\n",
    "e_rms = table[\"ishape_hsm_regauss_derived_rms_e\"]\n",
    "m = table[\"ishape_hsm_regauss_derived_shear_bias_m\"]\n",
    "c1 = table[\"ishape_hsm_regauss_derived_shear_bias_c1\"]\n",
    "c2 = table[\"ishape_hsm_regauss_derived_shear_bias_c2\"]\n",
    "weight = table[\"ishape_hsm_regauss_derived_shape_weight\"]\n",
    "\n",
    "to_use = np.isfinite(weight)*np.isfinite(e_rms)*np.isfinite(m)*np.isfinite(c1)*np.isfinite(c2)\n",
    "e1_0 = e1[to_use]\n",
    "e2_0 = e2[to_use]\n",
    "e_rms = e_rms[to_use]\n",
    "c1 = c1[to_use]\n",
    "c2 = c2[to_use]\n",
    "m = m[to_use]\n",
    "weight = weight[to_use]\n",
    "e_err = sigma_e[to_use]\n",
    "\n",
    "print(f'Number of sources with calibration: {np.sum(to_use)}')"
   ]
  },
  {
   "cell_type": "code",
   "execution_count": null,
   "id": "521c3ff7-b4df-49ea-ba0b-f0adb93b564b",
   "metadata": {},
   "outputs": [],
   "source": [
    "# From Shenming's CLMM demo on using HSC data\n",
    "def apply_shear_calibration(e1_0, e2_0, e_rms, m, c1, c2, weight):\n",
    "    R = 1.0 - np.sum(weight * e_rms**2.0) / np.sum(weight)\n",
    "    m_mean = np.sum(weight * m) / np.sum(weight)\n",
    "    c1_mean = np.sum(weight * c1) / np.sum(weight)\n",
    "    c2_mean = np.sum(weight * c2) / np.sum(weight)\n",
    "    print(\"R, m_mean, c1_mean, c2_mean: \", R, m_mean, c1_mean, c2_mean)\n",
    "\n",
    "    g1 = (e1_0 / (2.0 * R) - c1) / (1.0 + m_mean)\n",
    "    g2 = (e2_0 / (2.0 * R) - c2) / (1.0 + m_mean)\n",
    "\n",
    "    return g1, g2"
   ]
  },
  {
   "cell_type": "code",
   "execution_count": null,
   "id": "0713af3e-07ce-4a4c-b758-059625117444",
   "metadata": {},
   "outputs": [],
   "source": [
    "g1, g2 = apply_shear_calibration(e1_0, e2_0, e_rms, m, c1, c2, weight)"
   ]
  },
  {
   "cell_type": "code",
   "execution_count": null,
   "id": "666f65e6-8be6-43af-b925-aa6fe7af5162",
   "metadata": {},
   "outputs": [],
   "source": [
    "plt.hist(e1[to_use], bins=100, alpha=0.2, range=[-2, 2], label='e1');\n",
    "plt.hist(g1, bins=100, alpha=0.2,range=[-2, 2], label='g1 - HSC calibration');\n",
    "plt.legend()"
   ]
  },
  {
   "cell_type": "markdown",
   "id": "1e674648-b30d-47a7-906e-131c4f62d587",
   "metadata": {
    "execution": {
     "iopub.execute_input": "2025-02-27T15:35:09.756417Z",
     "iopub.status.busy": "2025-02-27T15:35:09.756139Z",
     "iopub.status.idle": "2025-02-27T15:35:09.758922Z",
     "shell.execute_reply": "2025-02-27T15:35:09.758489Z",
     "shell.execute_reply.started": "2025-02-27T15:35:09.756402Z"
    }
   },
   "source": [
    "## Use calibrated shears with CLMM to measure the shear profile"
   ]
  },
  {
   "cell_type": "code",
   "execution_count": null,
   "id": "3ec48ca3-9145-43cb-8220-2a5ad79de34e",
   "metadata": {},
   "outputs": [],
   "source": [
    "import clmm\n",
    "from clmm import GalaxyCluster, ClusterEnsemble, GCData, Cosmology\n",
    "from clmm import Cosmology, utils"
   ]
  },
  {
   "cell_type": "code",
   "execution_count": null,
   "id": "e295e967-ec22-437a-bbab-c62bfaa2fc14",
   "metadata": {},
   "outputs": [],
   "source": [
    "cosmo = clmm.Cosmology(H0=70.0, Omega_dm0=0.3 - 0.045, Omega_b0=0.045, Omega_k0=0.0)"
   ]
  },
  {
   "cell_type": "markdown",
   "id": "10912c2d-d361-42e4-8a31-0dd1cf29c036",
   "metadata": {
    "execution": {
     "iopub.execute_input": "2025-03-11T13:31:57.616919Z",
     "iopub.status.busy": "2025-03-11T13:31:57.616413Z",
     "iopub.status.idle": "2025-03-11T13:31:57.619841Z",
     "shell.execute_reply": "2025-03-11T13:31:57.619438Z",
     "shell.execute_reply.started": "2025-03-11T13:31:57.616902Z"
    }
   },
   "source": [
    "Prepare a CLMM GCData table using the catalog"
   ]
  },
  {
   "cell_type": "code",
   "execution_count": null,
   "id": "b592fed2-2095-41dd-aa49-de3cfcacc7d3",
   "metadata": {},
   "outputs": [],
   "source": [
    "galcat = GCData()\n",
    "galcat['id'] = gal_id[to_use]\n",
    "galcat['ra'] = ra[to_use]\n",
    "galcat['dec'] = dec[to_use]\n",
    "# galcat['e1'] = e1[to_use]\n",
    "# galcat['e2'] = e2[to_use]\n",
    "galcat['e1'] = g1\n",
    "galcat['e2'] = g2\n",
    "#galcat['e_err'] = e_err[to_use]/2.  # factor 2 to account for conversion between e and g\n",
    "galcat['e_err'] = e_err/2.  # factor 2 to account for conversion between e and g\n",
    "\n",
    "galcat['z'] = np.zeros(len(ra[to_use])) # CLMM needs a redshift column for the source, even if not used"
   ]
  },
  {
   "cell_type": "markdown",
   "id": "9a01b0fd-3a3e-4f8c-8e01-f872b01122f8",
   "metadata": {},
   "source": [
    "Create the corresponding CLMM galaxy cluster object"
   ]
  },
  {
   "cell_type": "code",
   "execution_count": null,
   "id": "e9ab2ad4-f769-4a2a-ab55-a09176be8c16",
   "metadata": {},
   "outputs": [],
   "source": [
    "cluster_id = \"Abell 360\"\n",
    "gc_object1 = clmm.GalaxyCluster(cluster_id, ra_bcg, dec_bcg, 0.22, galcat, \n",
    "                                coordinate_system='euclidean')"
   ]
  },
  {
   "cell_type": "code",
   "execution_count": null,
   "id": "2514a600-ee61-4d05-a1e5-4a734296b1c7",
   "metadata": {},
   "outputs": [],
   "source": [
    "gc_object1.compute_tangential_and_cross_components(add=True);"
   ]
  },
  {
   "cell_type": "markdown",
   "id": "2e1fb870-b2ff-4f3f-9719-460d4c4773db",
   "metadata": {},
   "source": [
    "Compute the lensing weights using CLMM - to do: to be checked against the weights that come out of the calibration step.\n"
   ]
  },
  {
   "cell_type": "code",
   "execution_count": null,
   "id": "68e02a6f-22bd-4c6e-ba8f-cf5bd897c1b8",
   "metadata": {},
   "outputs": [],
   "source": [
    "gc_object1.compute_galaxy_weights(\n",
    "        shape_component1=\"e1\",\n",
    "        shape_component2=\"e2\",\n",
    "        use_shape_error=True,\n",
    "        shape_component1_err=\"e_err\",\n",
    "        shape_component2_err=\"e_err\",\n",
    "        use_shape_noise=True,\n",
    "        weight_name=\"w_ls\",\n",
    "        cosmo=cosmo,\n",
    "        add=True,\n",
    "    ) \n",
    "#gc_object1.galcat['w_ls']=weight #use the weights from the HSC calibration, and not the CLMM-computed ones"
   ]
  },
  {
   "cell_type": "code",
   "execution_count": null,
   "id": "95742cba-b452-4331-aa43-ef377597ce57",
   "metadata": {},
   "outputs": [],
   "source": [
    "gc_object1.galcat[0:5]"
   ]
  },
  {
   "cell_type": "code",
   "execution_count": null,
   "id": "b1fdc475-e27a-4fe4-91d1-ae1b259ed08f",
   "metadata": {},
   "outputs": [],
   "source": [
    "# Radial binning, either in Mpc or degrees\n",
    "bins_mpc = clmm.make_bins(0.4,5,nbins=6, method='evenlog10width')"
   ]
  },
  {
   "cell_type": "markdown",
   "id": "97c1efad-b98f-403c-96c7-c2959e6ac7e8",
   "metadata": {
    "execution": {
     "iopub.execute_input": "2025-03-11T13:34:18.100029Z",
     "iopub.status.busy": "2025-03-11T13:34:18.099484Z",
     "iopub.status.idle": "2025-03-11T13:34:18.102923Z",
     "shell.execute_reply": "2025-03-11T13:34:18.102466Z",
     "shell.execute_reply.started": "2025-03-11T13:34:18.100009Z"
    }
   },
   "source": [
    "Radial profile computation"
   ]
  },
  {
   "cell_type": "code",
   "execution_count": null,
   "id": "1c1e1942-6e2f-44b8-baf7-9868ee53dbc3",
   "metadata": {},
   "outputs": [],
   "source": [
    "gc_object1.make_radial_profile(bins=bins_mpc, bin_units='Mpc', add=True, cosmo=cosmo, overwrite=True, \n",
    "                               use_weights=True,gal_ids_in_bins=True, error_model='ste');"
   ]
  },
  {
   "cell_type": "code",
   "execution_count": null,
   "id": "71c9d201-fa56-4b82-a10b-0ef685fd7124",
   "metadata": {},
   "outputs": [],
   "source": [
    "# Check the profile table\n",
    "#gc_object1.profile[0]"
   ]
  },
  {
   "cell_type": "markdown",
   "id": "3533d417-15b3-43dd-ad5f-ebdd91952eb8",
   "metadata": {},
   "source": [
    "Also use CLMM to get a typical model for a cluster at that redshift, assuming the DESC SRD n(z)"
   ]
  },
  {
   "cell_type": "code",
   "execution_count": null,
   "id": "425720bc-26f3-4a6f-a522-c0b0253dd35b",
   "metadata": {},
   "outputs": [],
   "source": [
    "moo = clmm.Modeling(massdef=\"critical\", delta_mdef=500, halo_profile_model=\"nfw\")\n",
    "\n",
    "moo.set_cosmo(cosmo)\n",
    "moo.set_concentration(4)\n",
    "moo.set_mass(4.e14)\n",
    "\n",
    "z_cl = gc_object1.z\n",
    "\n",
    "# source properties\n",
    "# Wrongly assume sources redshift following a the DESC SRD distribution (pre-coded in CLMM). \n",
    "# Just to get something in the ballpark of what to expect\n",
    "\n",
    "z_distrib_func = utils.redshift_distributions.desc_srd  \n",
    "\n",
    "# Compute first beta (e.g. eq(6) of WtGIII paper)\n",
    "beta_kwargs = {\n",
    "    \"z_cl\": z_cl,\n",
    "    \"z_inf\": 10.0,\n",
    "    \"cosmo\": cosmo,\n",
    "    \"z_distrib_func\": z_distrib_func,\n",
    "}\n",
    "beta_s_mean = utils.compute_beta_s_mean_from_distribution(**beta_kwargs)\n",
    "beta_s_square_mean = utils.compute_beta_s_square_mean_from_distribution(**beta_kwargs)\n",
    "\n",
    "rproj = np.logspace(np.log10(0.1),np.log10(7.), 100)\n",
    "\n",
    "gt_z = moo.eval_reduced_tangential_shear(\n",
    "    rproj, z_cl, [beta_s_mean, beta_s_square_mean], z_src_info=\"beta\", approx=\"order2\"\n",
    ")"
   ]
  },
  {
   "cell_type": "code",
   "execution_count": null,
   "id": "77ac6c5b-d79b-4d0f-a5d2-3821966ae011",
   "metadata": {},
   "outputs": [],
   "source": [
    "plt.errorbar(gc_object1.profile['radius'], gc_object1.profile['gt'], gc_object1.profile['gt_err'], \n",
    "             ls='', marker='.', label='tangential')\n",
    "plt.errorbar(gc_object1.profile['radius']*1.02, gc_object1.profile['gx'], gc_object1.profile['gx_err'], \n",
    "             ls='', marker='.', label='cross')\n",
    "plt.plot(rproj, gt_z, label='NFW, M500c=4e14 Msun, c=4, n(z)=SRD', ls=':')\n",
    "\n",
    "plt.xscale('log')\n",
    "plt.axhline(0.0, color='k', ls=':')\n",
    "plt.ylim([-0.06,0.1])\n",
    "plt.xlim([0.4,6])\n",
    "#plt.xlim([0.0,0.6])\n",
    "#plt.yscale('log')\n",
    "plt.xlabel('R [Mpc]')\n",
    "#plt.xlabel('separation [deg]')\n",
    "plt.ylabel('reduced shear')\n",
    "plt.legend(loc=1)\n",
    "plt.savefig(f\"profile_{version}.png\")\n",
    "plt.savefig('image_output/shear_profile.png')"
   ]
  }
 ],
 "metadata": {
  "kernelspec": {
   "display_name": "LSST",
   "language": "python",
   "name": "lsst"
  },
  "language_info": {
   "codemirror_mode": {
    "name": "ipython",
    "version": 3
   },
   "file_extension": ".py",
   "mimetype": "text/x-python",
   "name": "python",
   "nbconvert_exporter": "python",
   "pygments_lexer": "ipython3",
   "version": "3.12.10"
  }
 },
 "nbformat": 4,
 "nbformat_minor": 5
}

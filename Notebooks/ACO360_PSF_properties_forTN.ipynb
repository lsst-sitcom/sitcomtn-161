{
 "cells": [
  {
   "cell_type": "markdown",
   "id": "a3cb3c0d-88be-4273-acd2-b97b2b0211fd",
   "metadata": {
    "execution": {
     "iopub.execute_input": "2025-03-27T08:46:58.391190Z",
     "iopub.status.busy": "2025-03-27T08:46:58.390706Z",
     "iopub.status.idle": "2025-03-27T08:46:58.396363Z",
     "shell.execute_reply": "2025-03-27T08:46:58.395897Z",
     "shell.execute_reply.started": "2025-03-27T08:46:58.391174Z"
    }
   },
   "source": [
    "# Check PSF correction in A360 field\n",
    "\n",
    "Authors: Céline Combet, Andrés Plazas Malagón (with inputs from many)\\\n",
    "LSST Science Piplines version: Weekly 2025_17\\\n",
    "Container Size: medium\n",
    "\n",
    "This notebook provide the code used to generate the figures of [SITCOMTN-161](https://sitcomtn-161.lsst.io/) (it acutally also produces other figures that were not shown in the TechNote), which aims at checking the PSF behaviour and correction in A360 field. The main steps are\n",
    "\n",
    "- Loading the relevant stars from the object catalogs (all tracts and patches needed) using the butler\n",
    "- Checking out the size of the PSF accross the field\n",
    "- Computing the ellipticities of stars and corresponding PSF model and make the whisker plots to check the residuals.\n",
    "- Computing the tangential shear of the residuals\n",
    "- Exploring the rho-statistics of the residuals\n",
    "\n",
    "NB: Check out the [PSF DP1 tutorial](\\url{https://dp1.lsst.io/tutorials/notebook/304/notebook-304-1.html}) for more PSF diagnostics "
   ]
  },
  {
   "cell_type": "code",
   "execution_count": null,
   "id": "ddf82e56-ef5a-4dfc-abd9-92f8fa6e65fb",
   "metadata": {},
   "outputs": [],
   "source": [
    "# general python packages\n",
    "import numpy as np\n",
    "import matplotlib.pyplot as plt\n",
    "import pandas as pd"
   ]
  },
  {
   "cell_type": "code",
   "execution_count": null,
   "id": "7e89df4c-23d3-4866-bc9d-78aecbcce935",
   "metadata": {},
   "outputs": [],
   "source": [
    "from lsst.daf.butler import Butler\n",
    "import lsst.geom as geom\n",
    "import lsst.afw.geom as afwGeom"
   ]
  },
  {
   "cell_type": "code",
   "execution_count": null,
   "id": "96e65676-d2ff-4091-8401-9d34b3034513",
   "metadata": {},
   "outputs": [],
   "source": [
    "repo = '/repo/dp1'\n",
    "collection = 'LSSTComCam/runs/DRP/DP1/v29_0_0/DM-50260'\n",
    "\n",
    "butler = Butler(repo, collections=collection)\n",
    "skymap = butler.get('skyMap', skymap='lsst_cells_v1')"
   ]
  },
  {
   "cell_type": "code",
   "execution_count": null,
   "id": "b5642678-0136-4774-85d2-21cccc02960f",
   "metadata": {},
   "outputs": [],
   "source": [
    "version_str = collection.split('/')\n",
    "version = version_str[-2:][0]+'_'+version_str[-2:][1]\n",
    "version"
   ]
  },
  {
   "cell_type": "markdown",
   "id": "947a6856-cbea-4d1c-9b21-948edc1814f3",
   "metadata": {},
   "source": [
    "## Band under scrutiny"
   ]
  },
  {
   "cell_type": "code",
   "execution_count": null,
   "id": "7c65f153-ac58-4e56-9673-0b6e60dffc95",
   "metadata": {},
   "outputs": [],
   "source": [
    "my_band = 'i'"
   ]
  },
  {
   "cell_type": "markdown",
   "id": "63482375-69a6-4201-96da-9550357844ee",
   "metadata": {},
   "source": [
    "## Load the relevant catalogs\n",
    "For PSF studies, we need to look at stars\n",
    "### Find all tracts/patches to load"
   ]
  },
  {
   "cell_type": "code",
   "execution_count": null,
   "id": "0eb48cd7-9d90-4d8c-ba45-a058f5f1bc24",
   "metadata": {},
   "outputs": [],
   "source": [
    "# Position of the BCG for A360\n",
    "ra_bcg = 37.862\n",
    "dec_bcg = 6.98\n",
    "\n",
    "# Looking for all patches in delta deg region around it\n",
    "delta = 0.5\n",
    "center = geom.SpherePoint(ra_bcg, dec_bcg, geom.degrees)\n",
    "ra_min, ra_max = ra_bcg - delta, ra_bcg + delta\n",
    "dec_min, dec_max = dec_bcg - delta, dec_bcg + delta\n",
    "\n",
    "ra_range = (ra_min, ra_max)\n",
    "dec_range = (dec_min, dec_max)\n",
    "radec = [geom.SpherePoint(ra_range[0], dec_range[0], geom.degrees),\n",
    "         geom.SpherePoint(ra_range[0], dec_range[1], geom.degrees),\n",
    "         geom.SpherePoint(ra_range[1], dec_range[0], geom.degrees),\n",
    "         geom.SpherePoint(ra_range[1], dec_range[1], geom.degrees)]\n",
    "\n",
    "tracts_and_patches = skymap.findTractPatchList(radec)\n",
    "\n",
    "tp_dict = {}\n",
    "for tract_num in np.arange(len(tracts_and_patches)):\n",
    "    tract_info = tracts_and_patches[tract_num][0]\n",
    "    tract_idx = tract_info.getId()\n",
    "    # All the patches around the cluster\n",
    "    patches = []\n",
    "    for i,patch in enumerate(tracts_and_patches[tract_num][1]):\n",
    "        patch_info = tracts_and_patches[tract_num][1][i]\n",
    "        patch_idx = patch_info.sequential_index\n",
    "        patches.append(patch_idx)\n",
    "    tp_dict.update({tract_idx:patches})\n",
    "#tp_dict"
   ]
  },
  {
   "cell_type": "markdown",
   "id": "c52c6ddd-058d-42c9-8ef3-fe7934c1dc2c",
   "metadata": {
    "execution": {
     "iopub.execute_input": "2025-03-27T09:03:59.873500Z",
     "iopub.status.busy": "2025-03-27T09:03:59.873151Z",
     "iopub.status.idle": "2025-03-27T09:03:59.876023Z",
     "shell.execute_reply": "2025-03-27T09:03:59.875529Z",
     "shell.execute_reply.started": "2025-03-27T09:03:59.873483Z"
    }
   },
   "source": [
    "### Load quantities with the cuts needed to get PSF stars, etc. "
   ]
  },
  {
   "cell_type": "code",
   "execution_count": null,
   "id": "5e5073c6-c885-4687-9065-d598a86e5b7a",
   "metadata": {},
   "outputs": [],
   "source": [
    "# Get the object catlaog of these patches\n",
    "if 'v29' in version:\n",
    "    datasetType = 'object_patch'\n",
    "else:\n",
    "    datasetType = 'objectTable'\n",
    "\n",
    "merged_cat_used = pd.DataFrame() # to store the catalog of stars used by PIFF for the PSF modeling\n",
    "merged_cat_reserved = pd.DataFrame() # to store the catalog of stars marked as \"reserved\", i.e. not used to build the PIFF PSF model \n",
    "merged_cat_all = pd.DataFrame() # to store all extended objects, to have more locations to check the PSF model.\n",
    "\n",
    "for tract in list(tp_dict.keys()):\n",
    "    print(f'Loading objects from tract {tract}, patches:{tp_dict[tract]}')\n",
    "\n",
    "    for patch in tp_dict[tract]:\n",
    "        dataId = {'tract': tract, 'patch' : patch ,'skymap':'lsst_cells_v1'}\n",
    "        obj_cat = butler.get(datasetType, dataId=dataId)\n",
    "        if datasetType == 'object_patch': # new naming convention, and obj_cat is now an astropy table. \n",
    "            obj_cat = obj_cat.to_pandas() # convert to pandas to leave the rest of the code unchanged\n",
    "\n",
    "        # Stars used for the PSF modeling\n",
    "        filt1 = obj_cat['detect_isPrimary'] == True\n",
    "        filt1 &= obj_cat['refExtendedness'] == 0.0 # keep stars only\n",
    "        filt1 &= obj_cat[f'{my_band}_calib_psf_used'] == True # that were used to build the psf model\n",
    "        filt1 &= obj_cat[f'{my_band}_pixelFlags_inexact_psfCenter'] == False # To avoid objects with discontinuous PSF (due to edges)\n",
    "        merged_cat_used = pd.concat([merged_cat_used, obj_cat[filt1]], ignore_index=True)\n",
    "        \n",
    "        # Stars \"reserved\" to check the PSF modeling\n",
    "        filt2 = obj_cat['detect_isPrimary'] == True\n",
    "        filt2 &= obj_cat['refExtendedness'] == 0.0\n",
    "        filt2 &= obj_cat[f'{my_band}_pixelFlags_inexact_psfCenter']==False\n",
    "        filt2 &= obj_cat[f'{my_band}_calib_psf_reserved'] == True # not used for the psf model\n",
    "\n",
    "        merged_cat_reserved = pd.concat([merged_cat_reserved, obj_cat[filt2]], ignore_index=True)\n",
    "\n",
    "        # All extended objects (to have more locations where to look at the PSF size and ellipticity)\n",
    "        filt3 = obj_cat['detect_isPrimary']==True\n",
    "        filt3 &= obj_cat['refExtendedness'] == 1.0\n",
    "        merged_cat_all = pd.concat([merged_cat_all, obj_cat[filt3]], ignore_index=True)"
   ]
  },
  {
   "cell_type": "code",
   "execution_count": null,
   "id": "e3f44f03-4617-469d-8d7f-dbfd9f4d46e4",
   "metadata": {},
   "outputs": [],
   "source": [
    "print(f'used stars: {len(merged_cat_used)}; reserved stars:{len(merged_cat_reserved)}, extended objects: {len(merged_cat_all)}')"
   ]
  },
  {
   "cell_type": "markdown",
   "id": "c28ea1af-6e13-476d-87b6-2480ae4333df",
   "metadata": {
    "execution": {
     "iopub.execute_input": "2025-03-27T09:04:51.017874Z",
     "iopub.status.busy": "2025-03-27T09:04:51.017557Z",
     "iopub.status.idle": "2025-03-27T09:04:51.020519Z",
     "shell.execute_reply": "2025-03-27T09:04:51.020066Z",
     "shell.execute_reply.started": "2025-03-27T09:04:51.017859Z"
    }
   },
   "source": [
    "## Check out the location of the PSF stars, in (ra, dec) and (x,y) coordinates, colored by track number\n",
    "\n",
    "The BCG and 1 deg field around it are highlighted in the (ra,dec) plot"
   ]
  },
  {
   "cell_type": "code",
   "execution_count": null,
   "id": "66f4cda2-057d-414c-9b81-38ee70a1bae9",
   "metadata": {},
   "outputs": [],
   "source": [
    "from matplotlib.patches import Circle\n",
    "\n",
    "circle1 = Circle((ra_bcg, dec_bcg), 0.5, color='black', fill=False, linewidth=0.5)\n",
    "\n",
    "color = ['red', 'blue','green','magenta']\n",
    "\n",
    "fig, ax = plt.subplots(nrows=1, ncols=2, figsize=(10,5))\n",
    "for i,tract in enumerate(list(tp_dict.keys())):\n",
    "    filt = merged_cat_used['tract'] == tract\n",
    "    ax[0].scatter(merged_cat_used[filt]['coord_ra'], merged_cat_used[filt]['coord_dec'], \n",
    "                  c=color[i],  marker='.', s=2, label=f'tract = {tract}')    \n",
    "    ax[0].set_xlabel('ra [deg]')\n",
    "    ax[0].set_ylabel('dec [deg]')\n",
    "    ax[0].add_patch(circle1)\n",
    "\n",
    "for i,tract in enumerate(list(tp_dict.keys())):\n",
    "    filt = merged_cat_used['tract'] == tract\n",
    "    ax[1].scatter(merged_cat_used[filt]['i_centroid_x'], merged_cat_used[filt]['i_centroid_y'],  marker='.', s=2, c=color[i])\n",
    "ax[1].set_xlabel('i_centroid_x')\n",
    "ax[1].set_ylabel('i_centroid_y')\n",
    "fig.tight_layout()\n",
    "\n",
    "ax[0].scatter([ra_bcg], [dec_bcg], marker='+', s=100, c='black')\n",
    "ax[0].invert_xaxis() # to have ra increase to the left/east\n",
    "\n",
    "fig.legend(loc=9, markerscale=10)"
   ]
  },
  {
   "cell_type": "markdown",
   "id": "10867c00-51c1-4e39-8db1-50e89b5eac94",
   "metadata": {},
   "source": [
    "In (ra,dec), the stars cover the field and we can see which tract contribute to which area. In (x,y), we see a clear gap between the tracts as each tract has its own x, y coordinate system, (and some of these tracts do not have any visits covering some parts of them). Nontheless, looking at the patterns in the tracts, we see that the (x,y) grid is align with (ra,dec)."
   ]
  },
  {
   "cell_type": "markdown",
   "id": "28626ad9-31f0-45c1-8f0b-e626c578dcf7",
   "metadata": {
    "execution": {
     "iopub.execute_input": "2025-03-27T09:28:51.705965Z",
     "iopub.status.busy": "2025-03-27T09:28:51.705267Z",
     "iopub.status.idle": "2025-03-27T09:28:51.708029Z",
     "shell.execute_reply": "2025-03-27T09:28:51.707679Z",
     "shell.execute_reply.started": "2025-03-27T09:28:51.705949Z"
    }
   },
   "source": [
    "## PSF size variation across the field"
   ]
  },
  {
   "cell_type": "markdown",
   "id": "6e8f7f93-45db-453e-b47a-d6aa3d2f53f0",
   "metadata": {},
   "source": [
    "The `{band}_i{xx,xy,yy}PSF` quantities are the second moment of the PSF model for each object location in the catalog. The trace radius (PSF size) of the PSF is defined as\n",
    "$r_t = \\sqrt{(I_{xx} + I_{yy}/2)}$\n",
    "\n",
    "We look at the size of the PSF:\n",
    "- at the location of `used` stars (`merged_cat_used` catalog)\n",
    "- at the location of all extended objects (`merged_cat_all` catalog), to have a better coverage of the field and visualize PSF discontinutities, etc.\n"
   ]
  },
  {
   "cell_type": "code",
   "execution_count": null,
   "id": "92aed2aa-980f-4a44-a7f8-cbab3ff0372a",
   "metadata": {},
   "outputs": [],
   "source": [
    "size = np.sqrt((merged_cat_used[f'{my_band}_ixxPSF'] + merged_cat_used[f'{my_band}_iyyPSF']) / 2)\n",
    "size_all = np.sqrt((merged_cat_all[f'{my_band}_ixxPSF'] + merged_cat_all[f'{my_band}_iyyPSF']) / 2) # at all extended objects locations (not only PSF stars)"
   ]
  },
  {
   "cell_type": "code",
   "execution_count": null,
   "id": "3b046a41-2002-430a-98e4-588730b4e25a",
   "metadata": {},
   "outputs": [],
   "source": [
    "from matplotlib.patches import Circle\n",
    "\n",
    "ra, dec =  merged_cat_used['coord_ra'], merged_cat_used['coord_dec']\n",
    "\n",
    "fig, ax = plt.subplots(nrows=1, ncols=2, figsize=(15,5))\n",
    "\n",
    "scatter_plot1 = ax[0].scatter(ra, dec, c=size, s=4, cmap='viridis', marker='o')\n",
    "circle1 = Circle((ra_bcg, dec_bcg), 0.5, color='orange', fill=False, linewidth=1, \n",
    "                label='0.5 deg field around BCG')\n",
    "\n",
    "ax[0].set_xlabel('ra [deg]')\n",
    "ax[0].set_ylabel('dec [deg]')\n",
    "ax[0].scatter([ra_bcg], [dec_bcg], marker='+', s=100, c='orange')\n",
    "ax[0].invert_xaxis()\n",
    "ax[0].add_patch(circle1)\n",
    "#ax.add_patch(circle2)\n",
    "\n",
    "scatter_plot2 = ax[1].scatter(merged_cat_all['coord_ra'], merged_cat_all['coord_dec'], \n",
    "                              c=size_all, s=1, cmap='viridis', marker='o')\n",
    "ax[1].set_xlabel('ra [deg]')\n",
    "ax[1].set_ylabel('dec [deg]')\n",
    "ax[1].scatter([ra_bcg], [dec_bcg], marker='+', s=100, c='orange')\n",
    "circle2 = Circle((ra_bcg, dec_bcg), 0.5, color='orange', fill=False, linewidth=1, \n",
    "                label='0.5 deg field around BCG')\n",
    "ax[1].invert_xaxis()\n",
    "ax[1].add_patch(circle2)\n",
    "\n",
    "plt.colorbar(scatter_plot1, ax=ax[0], label='PSF size [pixels]')\n",
    "plt.colorbar(scatter_plot1, ax=ax[1], label='PSF size [pixels]')"
   ]
  },
  {
   "cell_type": "markdown",
   "id": "d00def48-38ab-4370-9a76-0781faee4a89",
   "metadata": {
    "execution": {
     "iopub.execute_input": "2025-03-27T09:52:22.493781Z",
     "iopub.status.busy": "2025-03-27T09:52:22.493460Z",
     "iopub.status.idle": "2025-03-27T09:52:22.509220Z",
     "shell.execute_reply": "2025-03-27T09:52:22.508753Z",
     "shell.execute_reply.started": "2025-03-27T09:52:22.493764Z"
    }
   },
   "source": [
    "The PSF size is varying by ~0.5 pixel across A360 field. The figure on the right showis the PSF size at more \n",
    "locations, which highlights the discontinuities in the PSF modeling when close to edges. Also allows us to see the various orientation of visits used to build the coadd."
   ]
  },
  {
   "cell_type": "markdown",
   "id": "751900b6-b121-47eb-9d12-5027e5bfa1c8",
   "metadata": {},
   "source": [
    "## Whisker plots - PSF ellipticity and PSF correction.\n",
    "\n",
    "The ellipticity components $e_1$, $e_2$ are computed from moments as:\n",
    "\n",
    "$e_1 = (I_{xx} - I_{yy}) / (I_{xx} + I_{yy})$\n",
    "\n",
    "$e_2 = 2I_{xy} / (I_{xx} + I_{yy})$\n",
    "\n",
    "The from this, the amplitude and orientation of the ellipse (angle of the ellipse major axis with respect to the (x,y) coordinate frame) are given by\n",
    "\n",
    "$e = \\sqrt{e_1^2 + e_2^2}$+\n",
    "\n",
    "$\\theta = 0.5 \\times \\arctan (e_2/e_1)$\n",
    "\n",
    "We also define the trace of the second moments matrix:\n",
    "\n",
    "$T = I_{xx} + I_{yy}$"
   ]
  },
  {
   "cell_type": "code",
   "execution_count": null,
   "id": "1002be26-ea04-43f7-b3d6-fe1dae773d32",
   "metadata": {},
   "outputs": [],
   "source": [
    "def get_psf_ellip(catalog, band=my_band):\n",
    "    psf_mxx = catalog[f'{band}_ixxPSF']\n",
    "    psf_myy = catalog[f'{band}_iyyPSF']\n",
    "    psf_mxy = catalog[f'{band}_ixyPSF']\n",
    "    return (psf_mxx - psf_myy) / (psf_mxx + psf_myy), 2.* psf_mxy / (psf_mxx + psf_myy)\n",
    "\n",
    "\n",
    "def get_star_ellip(catalog, band=my_band):\n",
    "    star_mxx = catalog[f'{band}_ixx']\n",
    "    star_myy = catalog[f'{band}_iyy']\n",
    "    star_mxy = catalog[f'{band}_ixy']\n",
    "    return (star_mxx - star_myy) / (star_mxx + star_myy), 2. * star_mxy / (star_mxx + star_myy)\n",
    "\n",
    "def get_psf_T(catalog, band=my_band):\n",
    "    return catalog[f'{band}_ixxPSF'] + catalog[f'{band}_iyyPSF']\n",
    "\n",
    "def get_star_T(catalog, band=my_band):\n",
    "    return catalog[f'{band}_ixx'] + catalog[f'{band}_iyy']\n"
   ]
  },
  {
   "cell_type": "code",
   "execution_count": null,
   "id": "7e9d9e9c-d878-4b1c-a7b2-5db54bfa21b9",
   "metadata": {},
   "outputs": [],
   "source": [
    "# For the PSF model, at the location of `used` stars\n",
    "\n",
    "T_psf_used = get_psf_T(merged_cat_used)\n",
    "\n",
    "e1_psf_used, e2_psf_used = get_psf_ellip(merged_cat_used)\n",
    "e_psf_used = np.sqrt(e1_psf_used*e1_psf_used + e2_psf_used*e2_psf_used) # module of ellipticity\n",
    "theta_psf_used = 0.5 * np.arctan2(e2_psf_used,e1_psf_used)\n",
    "\n",
    "cx_psf_used = e_psf_used * np.cos(theta_psf_used) # x-component of the vector for the whisker plot\n",
    "cy_psf_used = e_psf_used * np.sin(theta_psf_used) # y-component of the vector for the whisker plot\n",
    "\n",
    "# For the PSF model, at the location of `reserved` stars\n",
    "T_psf_reserved = get_psf_T(merged_cat_reserved)\n",
    "\n",
    "e1_psf_reserved, e2_psf_reserved = get_psf_ellip(merged_cat_reserved)\n",
    "e_psf_reserved = np.sqrt(e1_psf_reserved*e1_psf_reserved + e2_psf_reserved*e2_psf_reserved) # module of ellipticity\n",
    "theta_psf_reserved = 0.5 * np.arctan2(e2_psf_reserved,e1_psf_reserved)\n",
    "\n",
    "cx_psf_reserved = e_psf_reserved * np.cos(theta_psf_reserved) # x-component of the vector for the whisker plot\n",
    "cy_psf_reserved = e_psf_reserved * np.sin(theta_psf_reserved) # y-component of the vector for the whisker plot\n",
    "\n",
    "e1_psf_all, e2_psf_all = get_psf_ellip(merged_cat_all)"
   ]
  },
  {
   "cell_type": "code",
   "execution_count": null,
   "id": "84168bc3-762f-4590-baa4-c6d80241ca7a",
   "metadata": {},
   "outputs": [],
   "source": [
    "# Repeat for the `used` stars\n",
    "T_star_used = get_star_T(merged_cat_used)\n",
    "\n",
    "e1_star_used, e2_star_used = get_star_ellip(merged_cat_used)\n",
    "e_star_used = np.sqrt(e1_star_used*e1_star_used+e2_star_used*e2_star_used)\n",
    "theta_star_used = 0.5 * np.arctan2(e2_star_used,e1_star_used)\n",
    "\n",
    "cx_star_used = e_star_used * np.cos(theta_star_used)\n",
    "cy_star_used = e_star_used * np.sin(theta_star_used)\n",
    "\n",
    "# Repeat for the residual of the 'used' stars\n",
    "e1_residual_used = e1_star_used - e1_psf_used\n",
    "e2_residual_used = e2_star_used - e2_psf_used\n",
    "theta_residual_used = 0.5 * np.arctan2(e2_residual_used,e1_residual_used)\n",
    "e_residual_used = np.sqrt(e1_residual_used*e1_residual_used + e2_residual_used*e2_residual_used)\n",
    "\n",
    "cx_residual_used = e_residual_used * np.cos(theta_residual_used)\n",
    "cy_residual_used = e_residual_used * np.sin(theta_residual_used)\n",
    "\n",
    "# Repeat for the `reserved` stars\n",
    "T_star_reserved = get_star_T(merged_cat_reserved)\n",
    "\n",
    "e1_star_reserved, e2_star_reserved = get_star_ellip(merged_cat_reserved)\n",
    "e_star_reserved = np.sqrt(e1_star_reserved*e1_star_reserved+e2_star_reserved*e2_star_reserved)\n",
    "theta_star_reserved = 0.5 * np.arctan2(e2_star_reserved,e1_star_reserved)\n",
    "\n",
    "cx_star_reserved = e_star_reserved * np.cos(theta_star_reserved)\n",
    "cy_star_reserved = e_star_reserved * np.sin(theta_star_reserved)\n",
    "\n",
    "# Repeat for the residual of the 'reserved' stars\n",
    "e1_residual_reserved = e1_star_reserved - e1_psf_reserved\n",
    "e2_residual_reserved = e2_star_reserved - e2_psf_reserved\n",
    "theta_residual_reserved = 0.5 * np.arctan2(e2_residual_reserved,e1_residual_reserved)\n",
    "e_residual_reserved = np.sqrt(e1_residual_reserved*e1_residual_reserved + e2_residual_reserved*e2_residual_reserved)\n",
    "\n",
    "cx_residual_reserved = e_residual_reserved * np.cos(theta_residual_reserved)\n",
    "cy_residual_reserved = e_residual_reserved * np.sin(theta_residual_reserved)\n",
    "\n"
   ]
  },
  {
   "cell_type": "markdown",
   "id": "cac9861c-00dd-4c1c-8c69-44ed1f8f0427",
   "metadata": {
    "execution": {
     "iopub.execute_input": "2025-04-24T14:09:47.348321Z",
     "iopub.status.busy": "2025-04-24T14:09:47.348092Z",
     "iopub.status.idle": "2025-04-24T14:09:47.350960Z",
     "shell.execute_reply": "2025-04-24T14:09:47.350548Z",
     "shell.execute_reply.started": "2025-04-24T14:09:47.348304Z"
    }
   },
   "source": [
    "### for PSF stars, in (x,y) coordinates"
   ]
  },
  {
   "cell_type": "code",
   "execution_count": null,
   "id": "d0d9444e-2e06-4439-ad09-6fef073e0cbc",
   "metadata": {},
   "outputs": [],
   "source": [
    "x_centroid, y_centroid =  merged_cat_used[f'{my_band}_centroid_x'], merged_cat_used[f'{my_band}_centroid_y']\n",
    "\n",
    "scale = 1.e-4\n",
    "\n",
    "fig, ax = plt.subplots(nrows=1, ncols=3, figsize=(15,5))\n",
    "ax[0].quiver(x_centroid, y_centroid, cx_star_used, cy_star_used, angles='xy', color='black',\n",
    "           scale_units='xy', scale=scale, headlength=0, headwidth=0, headaxislength=0,\n",
    "         label='Star ellipticity')\n",
    "ax[0].set_title(f'Star ellipticity (from {my_band}_ixx, {my_band}_ixy, {my_band}_iyy)')\n",
    "ax[0].set_xlabel('x_centroid')\n",
    "ax[0].set_ylabel('y_centroid')\n",
    "\n",
    "ax[1].quiver(x_centroid, y_centroid, cx_psf_used, cy_psf_used, angles='xy', color='black',\n",
    "           scale_units='xy', scale=scale, headlength=0, headwidth=0, headaxislength=0,\n",
    "         label='PSF model ellipticity')\n",
    "ax[1].set_xlabel('x_centroid')\n",
    "ax[1].set_title(f'PSF model ellipticity (from {my_band}_ixxPSF, {my_band}_ixyPSF, {my_band}_iyyPSF)')\n",
    "\n",
    "ax[2].quiver(x_centroid, y_centroid, cx_residual_used, cy_residual_used, angles='xy', color='black',\n",
    "            scale_units='xy', scale=scale, headlength=0, headwidth=0, headaxislength=0)\n",
    "ax[2].set_xlabel('x_centroid')\n",
    "ax[2].set_title('Star - PSF ellipticity residuals')\n",
    "\n",
    "ref_norm = 0.1  # Define reference vector norm\n",
    "ref_x, ref_y = 3000, 5000  # Position to place reference vector\n",
    "ax[0].quiver(ref_x, ref_y, ref_norm, 0, angles='xy', color='red',\n",
    "             scale_units='xy', scale=scale, headlength=0, headwidth=0, headaxislength=0,\n",
    "             label=f'Ref: {ref_norm}')\n",
    "ax[1].quiver(ref_x, ref_y, ref_norm, 0, angles='xy', color='red',\n",
    "             scale_units='xy', scale=scale, headlength=0, headwidth=0, headaxislength=0,\n",
    "             label=f'Ref: {ref_norm}')\n",
    "ax[2].quiver(ref_x, ref_y, ref_norm, 0, angles='xy', color='red',\n",
    "             scale_units='xy', scale=scale, headlength=0, headwidth=0, headaxislength=0,\n",
    "             label=f'Ref: {ref_norm}')\n",
    "\n",
    "ax[0].text(ref_x + ref_norm / (2*scale), ref_y + 500, f'e=0.1', color='red', ha='center')\n",
    "ax[1].text(ref_x + ref_norm / (2*scale), ref_y + 500, f'e=0.1', color='red', ha='center')\n",
    "ax[2].text(ref_x + ref_norm / (2*scale), ref_y + 500, f'e=0.1', color='red', ha='center')\n",
    "\n",
    "# \n",
    "fig.tight_layout()"
   ]
  },
  {
   "cell_type": "markdown",
   "id": "f2f954d0-6283-41dc-9c14-2d02d9743f03",
   "metadata": {},
   "source": [
    "### for PSF stars in (ra, dec)\n",
    "\n",
    "To be consistent with ra increasing to the left, need to switch the sign of the `cx` component for the plots."
   ]
  },
  {
   "cell_type": "code",
   "execution_count": null,
   "id": "dc9f511d-8581-457a-a274-a15dc7d8a2e7",
   "metadata": {},
   "outputs": [],
   "source": [
    "x_centroid, y_centroid =  merged_cat_used['coord_ra'], merged_cat_used['coord_dec']\n",
    "\n",
    "scale = 2.2\n",
    "\n",
    "circle0 = Circle((ra_bcg, dec_bcg), 0.5, color='darkviolet', fill=False, linewidth=1, \n",
    "                label='0.5 deg field around BCG')\n",
    "circle1 = Circle((ra_bcg, dec_bcg), 0.5, color='darkviolet', fill=False, linewidth=1, \n",
    "                label='0.5 deg field around BCG')\n",
    "circle2 = Circle((ra_bcg, dec_bcg), 0.5, color='darkviolet', fill=False, linewidth=1, \n",
    "                label='0.5 deg field around BCG')\n",
    "\n",
    "\n",
    "fig, ax = plt.subplots(nrows=1, ncols=3, figsize=(15,5))\n",
    "\n",
    "ax[0].quiver(x_centroid, y_centroid, -cx_star_used, cy_star_used, angles='xy', color='black',\n",
    "           scale_units='xy', scale=scale, headlength=0, headwidth=0, headaxislength=0,\n",
    "         label='Star ellipticity', pivot='middle')\n",
    "ax[0].scatter([ra_bcg], [dec_bcg], marker='+', s=100, c='darkviolet')\n",
    "ax[0].add_patch(circle0)\n",
    "ax[0].invert_xaxis()\n",
    "ax[0].set_title(f'Star ellipticity (from {my_band}_ixx, {my_band}_ixy, {my_band}_iyy)')\n",
    "ax[0].set_xlabel('ra [deg]')\n",
    "ax[0].set_ylabel('dec [deg]')\n",
    "ax[0].set_xlim([38.6, 37.2])\n",
    "ax[0].set_ylim([6.23, 7.6])\n",
    "\n",
    "ax[1].quiver(x_centroid, y_centroid, -cx_psf_used, cy_psf_used, angles='xy', color='black',\n",
    "           scale_units='xy', scale=scale, headlength=0, headwidth=0, headaxislength=0,\n",
    "         label='PSF model ellipticity', pivot='middle')\n",
    "ax[1].scatter([ra_bcg], [dec_bcg], marker='+', s=100, c='darkviolet')\n",
    "ax[1].add_patch(circle1)\n",
    "ax[1].invert_xaxis()\n",
    "ax[1].set_xlabel('ra [deg]')\n",
    "ax[1].set_title(f'PSF model ellipticity (from {my_band}_ixxPSF, {my_band}_ixyPSF, {my_band}_iyyPSF)')\n",
    "ax[1].set_xlim([38.6, 37.2])\n",
    "ax[1].set_ylim([6.23, 7.6])\n",
    "\n",
    "ax[2].quiver(x_centroid, y_centroid, -cx_residual_used, cy_residual_used, angles='xy', color='black',\n",
    "            scale_units='xy', scale=scale, headlength=0, headwidth=0, headaxislength=0, pivot='middle')\n",
    "ax[2].scatter([ra_bcg], [dec_bcg], marker='+', s=100, c='darkviolet')\n",
    "ax[2].add_patch(circle2)\n",
    "ax[2].invert_xaxis()\n",
    "ax[2].set_xlabel('ra [deg]')\n",
    "ax[2].set_title('Star - PSF ellipticity residuals')\n",
    "ax[2].set_xlim([38.6, 37.2])\n",
    "ax[2].set_ylim([6.23, 7.6])\n",
    "\n",
    "ref_norm = 0.1  # Define reference vector norm\n",
    "ref_x, ref_y = 38.4, 6.25  # Position to place reference vector\n",
    "ax[0].quiver(ref_x, ref_y, ref_norm, 0, angles='xy', color='red',\n",
    "             scale_units='xy', scale=scale, headlength=0, headwidth=0, headaxislength=0,\n",
    "             label=f'Ref: {ref_norm}')\n",
    "ax[1].quiver(ref_x, ref_y, ref_norm, 0, angles='xy', color='red',\n",
    "             scale_units='xy', scale=scale, headlength=0, headwidth=0, headaxislength=0,\n",
    "             label=f'Ref: {ref_norm}')\n",
    "ax[2].quiver(ref_x, ref_y, ref_norm, 0, angles='xy', color='red',\n",
    "             scale_units='xy', scale=scale, headlength=0, headwidth=0, headaxislength=0,\n",
    "             label=f'Ref: {ref_norm}')\n",
    "\n",
    "ax[0].text(ref_x + ref_norm / (2*scale), ref_y + 0.02, f'e=0.1', color='red', ha='center')\n",
    "ax[1].text(ref_x + ref_norm / (2*scale), ref_y + 0.02, f'e=0.1', color='red', ha='center')\n",
    "ax[2].text(ref_x + ref_norm / (2*scale), ref_y + 0.02, f'e=0.1', color='red', ha='center')\n",
    "\n",
    "\n",
    "# ax[1].scatter([ra_bcg], [dec_bcg], marker='+', s=100, c='orange')\n",
    "# ax[1].add_patch(circle1)\n",
    "# ax[2].scatter([ra_bcg], [dec_bcg], marker='+', s=100, c='orange')\n",
    "# ax[2].add_patch(circle1)\n",
    "# \n",
    "fig.tight_layout()"
   ]
  },
  {
   "cell_type": "markdown",
   "id": "03ef9742-9114-40ac-9670-8af373c2b2df",
   "metadata": {},
   "source": [
    "The violet circle is a 0.5 deg field around the BCG."
   ]
  },
  {
   "cell_type": "markdown",
   "id": "d702c980-c838-4ff7-adda-815734c23719",
   "metadata": {},
   "source": [
    "### for `reserved` stars (that haven't been used by PIFF), in (ra, dec)\n",
    "\n",
    "Now we repeat the same thing with the `reserved` stars, that were not used to buid the PSF model. NB: there are far less reserved stars than PSF stars."
   ]
  },
  {
   "cell_type": "code",
   "execution_count": null,
   "id": "44142dee-7aeb-48ec-bb7c-5171443a84ea",
   "metadata": {},
   "outputs": [],
   "source": [
    "x_centroid, y_centroid =  merged_cat_reserved['coord_ra'], merged_cat_reserved['coord_dec']\n",
    "\n",
    "scale = 2.2\n",
    "\n",
    "\n",
    "circle0 = Circle((ra_bcg, dec_bcg), 0.5, color='darkviolet', fill=False, linewidth=1, \n",
    "                label='0.5 deg field around BCG')\n",
    "circle1 = Circle((ra_bcg, dec_bcg), 0.5, color='darkviolet', fill=False, linewidth=1, \n",
    "                label='0.5 deg field around BCG')\n",
    "circle2 = Circle((ra_bcg, dec_bcg), 0.5, color='darkviolet', fill=False, linewidth=1, \n",
    "                label='0.5 deg field around BCG')\n",
    "\n",
    "\n",
    "fig, ax = plt.subplots(nrows=1, ncols=3, figsize=(15,5))\n",
    "\n",
    "ax[0].quiver(x_centroid, y_centroid, -cx_star_reserved, cy_star_reserved, angles='xy', color='black',\n",
    "           scale_units='xy', scale=scale, headlength=0, headwidth=0, headaxislength=0,\n",
    "         label='Star ellipticity')\n",
    "ax[0].scatter([ra_bcg], [dec_bcg], marker='+', s=100, c='darkviolet', label='cluster 0.5 deg field')\n",
    "ax[0].add_patch(circle0)\n",
    "ax[0].invert_xaxis()\n",
    "ax[0].set_title(f'Star ellipticity (from {my_band}_ixx, {my_band}_ixy, {my_band}_iyy)')\n",
    "ax[0].set_xlabel('ra [deg]')\n",
    "ax[0].set_ylabel('dec [deg]')\n",
    "ax[0].set_xlim([38.6, 37.2])\n",
    "ax[0].set_ylim([6.25, 7.6])\n",
    "\n",
    "ax[1].quiver(x_centroid, y_centroid, -cx_psf_reserved, cy_psf_reserved, angles='xy', color='black',\n",
    "           scale_units='xy', scale=scale, headlength=0, headwidth=0, headaxislength=0,\n",
    "         label='PSF model ellipticity')\n",
    "ax[1].scatter([ra_bcg], [dec_bcg], marker='+', s=100, c='darkviolet')\n",
    "ax[1].add_patch(circle1)\n",
    "ax[1].invert_xaxis()\n",
    "ax[1].set_xlabel('ra [deg]')\n",
    "ax[1].set_title(f'PSF model ellipticity (from {my_band}_ixxPSF, {my_band}_ixyPSF, {my_band}_iyyPSF)')\n",
    "ax[1].set_xlim([38.6, 37.2])\n",
    "ax[1].set_ylim([6.25, 7.6])\n",
    "\n",
    "ax[2].quiver(x_centroid, y_centroid, -cx_residual_reserved, cy_residual_reserved, angles='xy', color='black',\n",
    "            scale_units='xy', scale=scale, headlength=0, headwidth=0, headaxislength=0, pivot='middle')\n",
    "ax[2].scatter([ra_bcg], [dec_bcg], marker='+', s=100, c='darkviolet')\n",
    "ax[2].add_patch(circle2)\n",
    "ax[2].invert_xaxis()\n",
    "ax[2].set_xlabel('ra [deg]')\n",
    "ax[2].set_title('Star - PSF ellipticity residuals')\n",
    "ax[2].set_xlim([38.6, 37.2])\n",
    "ax[2].set_ylim([6.25, 7.6])\n",
    "\n",
    "ref_norm = 0.1  # Define reference vector norm\n",
    "ref_x, ref_y = 38.4, 6.27  # Position to place reference vector\n",
    "ax[0].quiver(ref_x, ref_y, ref_norm, 0, angles='xy', color='red',\n",
    "             scale_units='xy', scale=scale, headlength=0, headwidth=0, headaxislength=0,\n",
    "             label=f'Ref: {ref_norm}')\n",
    "ax[1].quiver(ref_x, ref_y, ref_norm, 0, angles='xy', color='red',\n",
    "             scale_units='xy', scale=scale, headlength=0, headwidth=0, headaxislength=0,\n",
    "             label=f'Ref: {ref_norm}')\n",
    "ax[2].quiver(ref_x, ref_y, ref_norm, 0, angles='xy', color='red',\n",
    "             scale_units='xy', scale=scale, headlength=0, headwidth=0, headaxislength=0,\n",
    "             label=f'Ref: {ref_norm}')\n",
    "\n",
    "ax[0].text(ref_x + ref_norm / (2*scale), ref_y + 0.02, f'e=0.1', color='red', ha='center')\n",
    "ax[1].text(ref_x + ref_norm / (2*scale), ref_y + 0.02, f'e=0.1', color='red', ha='center')\n",
    "ax[2].text(ref_x + ref_norm / (2*scale), ref_y + 0.02, f'e=0.1', color='red', ha='center')\n",
    "\n",
    "# ax[1].scatter([ra_bcg], [dec_bcg], marker='+', s=100, c='orange')\n",
    "# ax[1].add_patch(circle1)\n",
    "# ax[2].scatter([ra_bcg], [dec_bcg], marker='+', s=100, c='orange')\n",
    "# ax[2].add_patch(circle1)\n",
    "# \n",
    "fig.tight_layout()"
   ]
  },
  {
   "cell_type": "markdown",
   "id": "6ad0fad5-54bf-4ebe-a832-9ac45ec773d5",
   "metadata": {},
   "source": [
    "## Maps of number of images in the coadd, e1, e2, and total ellipticity "
   ]
  },
  {
   "cell_type": "code",
   "execution_count": null,
   "id": "0d951145-eba1-4fdd-aa0e-9c6c8af9a99b",
   "metadata": {},
   "outputs": [],
   "source": [
    "e_psf_all = np.sqrt(e1_psf_all*e1_psf_all + e2_psf_all*e2_psf_all)\n",
    "\n",
    "fig, ax = plt.subplots(nrows=2, ncols=2, figsize=(15,13))\n",
    "\n",
    "scatter_plot1 = ax[0][0].scatter(merged_cat_all['coord_ra'],merged_cat_all['coord_dec'], c=merged_cat_all[f'{my_band}_inputCount'], s=1, cmap='viridis', marker='o')\n",
    "ax[0][0].invert_xaxis()\n",
    "ax[0][0].set_xlabel('ra [deg]')\n",
    "ax[0][0].set_ylabel('dec [deg]')\n",
    "plt.colorbar(scatter_plot1, ax=ax[0][0], label='number of images')\n",
    "\n",
    "scatter_plot2 = ax[0][1].scatter(merged_cat_all['coord_ra'],merged_cat_all['coord_dec'], c=e_psf_all, s=1, cmap='viridis', marker='o')\n",
    "ax[0][1].invert_xaxis()\n",
    "ax[0][1].set_xlabel('ra [deg]')\n",
    "ax[0][1].set_ylabel('dec [deg]')\n",
    "plt.colorbar(scatter_plot2, ax=ax[0][1], label='ellipticity modulus')\n",
    "\n",
    "scatter_plot3 = ax[1][0].scatter(merged_cat_all['coord_ra'],merged_cat_all['coord_dec'], c=e1_psf_all, s=1, cmap='viridis', marker='o')\n",
    "ax[1][0].invert_xaxis()\n",
    "ax[1][0].set_xlabel('ra [deg]')\n",
    "ax[1][0].set_ylabel('dec [deg]')\n",
    "plt.colorbar(scatter_plot2, ax=ax[1][0], label='e1')\n",
    "\n",
    "scatter_plot4 = ax[1][1].scatter(merged_cat_all['coord_ra'],merged_cat_all['coord_dec'], c=e2_psf_all, s=1, cmap='viridis', marker='o')\n",
    "ax[1][1].invert_xaxis()\n",
    "ax[1][1].set_xlabel('ra [deg]')\n",
    "ax[1][1].set_ylabel('dec [deg]')\n",
    "plt.colorbar(scatter_plot2, ax=ax[1][1], label='e2')\n",
    "\n",
    "fig.tight_layout()"
   ]
  },
  {
   "cell_type": "markdown",
   "id": "c677e21a-bb39-4d5d-b800-cc1a88eff36c",
   "metadata": {},
   "source": [
    "## Histogram of the T, e1, e2 residuals in A360 field, for `used` and `reserved` stars"
   ]
  },
  {
   "cell_type": "code",
   "execution_count": null,
   "id": "286d8079-6843-45c2-bee4-8ad77cbf8c4f",
   "metadata": {},
   "outputs": [],
   "source": [
    "fig, ax = plt.subplots(nrows=1, ncols=3, figsize=(15,5))\n",
    "\n",
    "ax[0].hist((e1_star_used-e1_psf_used), bins=30, range=[-0.04, 0.04], density=True, alpha=0.2, label='used');\n",
    "ax[0].hist((e1_star_reserved-e1_psf_reserved), bins=30, range=[-0.04, 0.04], density=True, alpha=0.2, label='reserved')\n",
    "ax[0].set_xlabel(r'$\\delta e_1 = $ Star e1 - PSF model e1')\n",
    "ax[0].legend()\n",
    "\n",
    "ax[1].hist((e2_star_used-e2_psf_used), bins=30, range=[-0.04, 0.04], density=True, alpha=0.2, label='used');\n",
    "ax[1].hist((e2_star_reserved-e2_psf_reserved), bins=30, range=[-0.04, 0.04], density=True, alpha=0.2, label='reserved')\n",
    "ax[1].set_xlabel(r'$\\delta e_2 = $ Star e2 - model PSF e2')\n",
    "ax[1].legend()\n",
    "\n",
    "ax[2].hist((T_star_used-T_psf_used)/T_star_used, bins=30, range=[-0.1, 0.1], density=True, alpha=0.2, label='used');\n",
    "ax[2].hist((T_star_reserved-T_psf_reserved)/T_star_reserved, bins=30, range=[-0.1, 0.1], density=True, alpha=0.2, label='reserved')\n",
    "ax[2].set_xlabel(r'$\\delta T / T_{star}$')\n",
    "ax[2].legend()\n",
    "fig.tight_layout()"
   ]
  },
  {
   "cell_type": "markdown",
   "id": "bf43615a-520e-4e53-8bf0-1816cee4b732",
   "metadata": {
    "execution": {
     "iopub.execute_input": "2025-04-24T18:04:42.777134Z",
     "iopub.status.busy": "2025-04-24T18:04:42.776927Z",
     "iopub.status.idle": "2025-04-24T18:04:42.780054Z",
     "shell.execute_reply": "2025-04-24T18:04:42.779671Z",
     "shell.execute_reply.started": "2025-04-24T18:04:42.777119Z"
    }
   },
   "source": [
    "## Radial profile of the tangential residuals (uses CLMM)\n",
    "\n",
    "Another diagnostic test of the PSF correction consists in computing the tangential residuals from $\\delta e_1$ and $\\delta e_2$, and plot the corresponding radial profiles from the cluster BCG, for both `used` and `reserved` stars."
   ]
  },
  {
   "cell_type": "code",
   "execution_count": null,
   "id": "716ab942-6700-4b56-b567-26fd2d704253",
   "metadata": {},
   "outputs": [],
   "source": [
    "import clmm\n",
    "from clmm import GalaxyCluster, GCData, Cosmology\n",
    "from clmm import Cosmology, utils"
   ]
  },
  {
   "cell_type": "code",
   "execution_count": null,
   "id": "247d54f9-5969-45d2-8e86-6b180ba1abc3",
   "metadata": {},
   "outputs": [],
   "source": [
    "cosmo = clmm.Cosmology(H0=70.0, Omega_dm0=0.3 - 0.045, Omega_b0=0.045, Omega_k0=0.0)"
   ]
  },
  {
   "cell_type": "markdown",
   "id": "bb8cec20-e4d1-4a7e-8755-6ff17ce51a89",
   "metadata": {},
   "source": [
    "### Radial profile of the tangential residuals, for `used` and `reserved` stars"
   ]
  },
  {
   "cell_type": "code",
   "execution_count": null,
   "id": "3bcd6857-963d-4ce9-b324-420ab42ddfdd",
   "metadata": {},
   "outputs": [],
   "source": [
    "from astropy.table import Table, vstack"
   ]
  },
  {
   "cell_type": "code",
   "execution_count": null,
   "id": "fea721c1-bf2a-4d7e-9e82-847278e0ed91",
   "metadata": {},
   "outputs": [],
   "source": [
    "################ Reserved stars #############\n",
    "galcat = GCData()\n",
    "galcat['ra'] = merged_cat_reserved['coord_ra']\n",
    "galcat['dec'] = merged_cat_reserved['coord_dec']\n",
    "galcat['e1'] = e1_star_reserved - e1_psf_reserved # delta e1\n",
    "galcat['e2'] = e2_star_reserved - e2_psf_reserved # delta e1\n",
    "\n",
    "galcat['z'] = np.zeros(len(galcat['ra'])) # CLMM needs a redshift column for the source, even if not used\n",
    "\n",
    "cluster_id = \"Abell 360\"\n",
    "gc_object1 = clmm.GalaxyCluster(cluster_id, ra_bcg, dec_bcg, 0.22, galcat, \n",
    "                                coordinate_system='euclidean')\n",
    "\n",
    "gc_object1.compute_tangential_and_cross_components(add=True);\n",
    "\n",
    "#print(len(gc_object1.galcat))\n",
    "\n",
    "#bins_mpc = clmm.make_bins(0.4,5,nbins=5, method='evenlog10width')\n",
    "#bins_deg = clmm.make_bins(0.1,1,nbins=7, method='evenwidth')\n",
    "bins_arcmin = clmm.make_bins(0,40,nbins=7, method='evenwidth')\n",
    "gc_object1.make_radial_profile(bins=bins_arcmin, bin_units='arcmin', add=True, cosmo=cosmo, overwrite=True, \n",
    "                               use_weights=False, error_model='ste');\n",
    "\n",
    "################ Used stars #############\n",
    "\n",
    "galcat = GCData()\n",
    "galcat['ra'] = merged_cat_used['coord_ra']\n",
    "galcat['dec'] = merged_cat_used['coord_dec']\n",
    "galcat['e1'] = e1_star_used - e1_psf_used\n",
    "galcat['e2'] = e2_star_used - e2_psf_used\n",
    "galcat['z'] = np.zeros(len(galcat['ra'])) # CLMM needs a redshift column for the source, even if not used\n",
    "\n",
    "gc_object2 = clmm.GalaxyCluster(cluster_id, ra_bcg, dec_bcg, 0.22, galcat, \n",
    "                                coordinate_system='euclidean')\n",
    "\n",
    "\n",
    "gc_object2.compute_tangential_and_cross_components(add=True);\n",
    "\n",
    "#print(len(gc_object2.galcat))\n",
    "\n",
    "gc_object2.make_radial_profile(bins=bins_arcmin, bin_units='arcmin', add=True, cosmo=cosmo, overwrite=True, \n",
    "                               use_weights=False, error_model='ste');\n",
    "\n",
    "#print(gc_object2.profile)\n",
    "\n",
    "################ All stars #############\n",
    "galcat_all = vstack([gc_object1.galcat, gc_object2.galcat])\n",
    "\n",
    "gc_object3 = clmm.GalaxyCluster(cluster_id, ra_bcg, dec_bcg, 0.22, galcat_all, \n",
    "                                coordinate_system='euclidean')\n",
    "gc_object3.compute_tangential_and_cross_components(add=True);\n",
    "\n",
    "gc_object3.make_radial_profile(bins=bins_arcmin, bin_units='arcmin', add=True, cosmo=cosmo, overwrite=True, \n",
    "                               use_weights=False, error_model='ste');\n",
    "\n",
    "\n",
    "print(f'Number of used stars = {len(gc_object2.galcat)}')\n",
    "print(f'Number of reserved stars = {len(gc_object1.galcat)}')\n",
    "\n",
    "plt.errorbar(gc_object2.profile['radius'], gc_object2.profile['gt'], gc_object2.profile['gt_err'], \n",
    "             ls='', marker='.', label=\"PSF stars - residuals\")\n",
    "plt.errorbar(gc_object1.profile['radius'], gc_object1.profile['gt'], gc_object1.profile['gt_err'], \n",
    "             ls='', marker='+', label=\"'reserved' stars - residuals\")\n",
    "plt.errorbar(gc_object3.profile['radius']+0.5, gc_object3.profile['gt'], gc_object3.profile['gt_err'], \n",
    "             ls='', marker='x', label=\" all (PSF + reserved) stars - residuals\")\n",
    "\n",
    "#plt.xscale('log')\n",
    "plt.axhline(0.0, color='k', ls=':')\n",
    "plt.ylim([-0.008,0.008])\n",
    "#plt.ylim([-0.06,0.05])\n",
    "#plt.xlim([0.1,1])\n",
    "plt.xlim([0.,40])\n",
    "#plt.yscale('log')\n",
    "#plt.xlabel('R [Mpc]')\n",
    "plt.xlabel('Separation [arcmin]')\n",
    "plt.ylabel(r'$\\langle \\delta e_t\\rangle$')\n",
    "plt.legend(loc=1)\n",
    "plt.tight_layout()"
   ]
  },
  {
   "cell_type": "markdown",
   "id": "abe20505-e445-40be-8250-a54a21635d55",
   "metadata": {},
   "source": [
    "## rho-statistics using AnalysisTools"
   ]
  },
  {
   "cell_type": "code",
   "execution_count": null,
   "id": "a45af354-62e9-46ec-ad3f-2c4d63dcdc0d",
   "metadata": {},
   "outputs": [],
   "source": [
    "from lsst.analysis.tools.atools import RhoStatistics"
   ]
  },
  {
   "cell_type": "code",
   "execution_count": null,
   "id": "5d5cd19e-fdab-40cc-8e44-fab8a4d5da71",
   "metadata": {},
   "outputs": [],
   "source": [
    "atool = RhoStatistics()"
   ]
  },
  {
   "cell_type": "code",
   "execution_count": null,
   "id": "6455f24b-6524-413b-a5be-f8fd484a994b",
   "metadata": {},
   "outputs": [],
   "source": [
    "atool.process.calculateActions.rho.treecorr.nbins = 21\n",
    "atool.process.calculateActions.rho.treecorr.min_sep = 0.1\n",
    "atool.process.calculateActions.rho.treecorr.max_sep = 100.0"
   ]
  },
  {
   "cell_type": "code",
   "execution_count": null,
   "id": "d512ac67-4c73-4094-8f4c-5e462e3658cb",
   "metadata": {},
   "outputs": [],
   "source": [
    "atool.finalize()"
   ]
  },
  {
   "cell_type": "code",
   "execution_count": null,
   "id": "a4a4d8c5-f98c-4eaf-9a76-9661ef662be8",
   "metadata": {},
   "outputs": [],
   "source": [
    "input_schema = atool.getInputSchema()\n",
    "needed_catalog_fields = [name[0] for name in list(atool.getInputSchema())]\n",
    "print(needed_catalog_fields)"
   ]
  },
  {
   "cell_type": "code",
   "execution_count": null,
   "id": "d0266fb9-5282-4199-b4d4-ee091519482c",
   "metadata": {},
   "outputs": [],
   "source": [
    "prepResults = atool.prep(merged_cat_reserved, band=f\"{my_band}\")"
   ]
  },
  {
   "cell_type": "code",
   "execution_count": null,
   "id": "804819bc-2ed5-4420-8f89-79cd8e819bc1",
   "metadata": {},
   "outputs": [],
   "source": [
    "processResults = atool.process(prepResults, band=f\"{my_band}\")"
   ]
  },
  {
   "cell_type": "code",
   "execution_count": null,
   "id": "ab03c938-a793-40b6-abaa-6254e8c968cc",
   "metadata": {},
   "outputs": [],
   "source": [
    "print(\"Mean angular separation:\\n\", processResults['rho1'].meanr, \"\\n\")\n",
    "print(\"Correlation function:\\n\", processResults['rho1'].xip, \"\\n\")\n",
    "print(\"Error in the correlation function:\\n\", processResults['rho1'].varxip)"
   ]
  },
  {
   "cell_type": "code",
   "execution_count": null,
   "id": "d58fa32b-6947-4c0d-b0fd-c4502c7656e7",
   "metadata": {},
   "outputs": [],
   "source": [
    "produceResults = atool.produce(processResults)#, band=f\"{my_band}\", skymap=skymap)\n"
   ]
  },
  {
   "cell_type": "code",
   "execution_count": null,
   "id": "f8a72f56-e9fc-4f35-949b-200e7d5a8cc3",
   "metadata": {},
   "outputs": [],
   "source": [
    "rho_keys = ['rho1', 'rho2', 'rho3', 'rho4', 'rho5', 'rho3alt']\n",
    "rho_titles = [fr'$\\rho_1(\\theta) = \\langle\\delta e, \\delta e\\rangle$',\n",
    "             fr'$\\rho_2(\\theta) = \\langle e, \\delta e\\rangle$',\n",
    "             fr'$\\rho_3(\\theta) = \\langle e \\; \\delta T/T , e \\; \\delta T/T\\rangle$',\n",
    "             fr'$\\rho_4(\\theta) = \\langle \\delta e, e \\;\\delta T/T\\rangle$',\n",
    "             fr'$\\rho_5(\\theta) = \\langle e, e \\;\\delta T/T\\rangle$',\n",
    "             fr\"$\\rho_3\\prime(\\theta) = \\langle\\delta T/T, \\delta T/T\\rangle$\"]\n",
    "\n",
    "fig, axes = plt.subplots(2, 3, figsize=(12, 6), sharex=True, sharey=False)\n",
    "axes = axes.flatten()\n",
    "\n",
    "for i, key in enumerate(rho_keys):\n",
    "    ax = axes[i]\n",
    "    data = processResults[key]\n",
    "\n",
    "    meanr = data.meanr\n",
    "    yval = data.xi if key == 'rho3alt' else data.xip\n",
    "    err = np.sqrt(data.varxi) if key == 'rho3alt' else np.sqrt(data.varxip)\n",
    "\n",
    "    ax.errorbar(meanr, yval, yerr=err, fmt='o')\n",
    "    ax.axhline(0, color='k', linestyle='--', linewidth=1)\n",
    "    ax.set_xscale('log')\n",
    "    ax.set_yscale('symlog', linthresh=1e-7)\n",
    "\n",
    "#    ax.set_title(fr\"$\\rho_{{{key[-1]}}}(\\theta)$\")\n",
    "#    ax.set_title(rho_titles[i])\n",
    "\n",
    "    # Optional: add ±1e-6 shaded band\n",
    "    ax.fill_between(meanr, 1e-6, -1e-6, color='gray', alpha=0.2)\n",
    "    ax.set_ylabel(rho_titles[i])\n",
    "\n",
    "# Axis labels\n",
    "for ax in axes[3:]:\n",
    "    ax.set_xlabel(r\"$\\theta$ [arcmin]\")\n",
    "\n",
    "fig.tight_layout()\n",
    "#plt.show()"
   ]
  },
  {
   "cell_type": "code",
   "execution_count": null,
   "id": "65bac688-0063-4ea9-a265-fd2aad8ba47d",
   "metadata": {},
   "outputs": [],
   "source": []
  }
 ],
 "metadata": {
  "kernelspec": {
   "display_name": "LSST",
   "language": "python",
   "name": "lsst"
  },
  "language_info": {
   "codemirror_mode": {
    "name": "ipython",
    "version": 3
   },
   "file_extension": ".py",
   "mimetype": "text/x-python",
   "name": "python",
   "nbconvert_exporter": "python",
   "pygments_lexer": "ipython3",
   "version": "3.12.10"
  }
 },
 "nbformat": 4,
 "nbformat_minor": 5
}
